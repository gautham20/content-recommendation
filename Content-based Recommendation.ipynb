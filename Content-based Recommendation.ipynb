{
 "cells": [
  {
   "cell_type": "code",
   "execution_count": 2,
   "metadata": {},
   "outputs": [],
   "source": [
    "import json\n",
    "import pandas as pd\n",
    "import numpy as np\n",
    "import datetime\n",
    "import traceback\n",
    "from scipy import sparse\n",
    "from scipy.sparse import hstack\n",
    "from sklearn.feature_extraction.text import TfidfVectorizer\n",
    "from sklearn.metrics.pairwise import cosine_similarity"
   ]
  },
  {
   "cell_type": "markdown",
   "metadata": {},
   "source": [
    "## Load dataset"
   ]
  },
  {
   "cell_type": "code",
   "execution_count": 4,
   "metadata": {},
   "outputs": [],
   "source": [
    "data_df = pd.read_parquet('./data/catalog_data')"
   ]
  },
  {
   "cell_type": "code",
   "execution_count": 5,
   "metadata": {},
   "outputs": [
    {
     "data": {
      "text/html": [
       "<div>\n",
       "<style scoped>\n",
       "    .dataframe tbody tr th:only-of-type {\n",
       "        vertical-align: middle;\n",
       "    }\n",
       "\n",
       "    .dataframe tbody tr th {\n",
       "        vertical-align: top;\n",
       "    }\n",
       "\n",
       "    .dataframe thead th {\n",
       "        text-align: right;\n",
       "    }\n",
       "</style>\n",
       "<table border=\"1\" class=\"dataframe\">\n",
       "  <thead>\n",
       "    <tr style=\"text-align: right;\">\n",
       "      <th></th>\n",
       "      <th>product_url</th>\n",
       "      <th>product_name</th>\n",
       "      <th>pid</th>\n",
       "      <th>retail_price</th>\n",
       "      <th>discounted_price</th>\n",
       "      <th>image</th>\n",
       "      <th>description</th>\n",
       "      <th>product_rating</th>\n",
       "      <th>overall_rating</th>\n",
       "      <th>brand</th>\n",
       "      <th>...</th>\n",
       "      <th>spec_placket</th>\n",
       "      <th>spec_waistband</th>\n",
       "      <th>spec_weave type</th>\n",
       "      <th>spec_other bra details</th>\n",
       "      <th>spec_age group</th>\n",
       "      <th>spec_hem</th>\n",
       "      <th>spec_back</th>\n",
       "      <th>gender</th>\n",
       "      <th>cloth_type</th>\n",
       "      <th>mfr_code</th>\n",
       "    </tr>\n",
       "  </thead>\n",
       "  <tbody>\n",
       "    <tr>\n",
       "      <th>18</th>\n",
       "      <td>http://www.flipkart.com/mario-gotze-women-s-pr...</td>\n",
       "      <td>Mario Gotze Women's Printed Casual Orange Shirt</td>\n",
       "      <td>SHTEJRCHC5KESPYX</td>\n",
       "      <td>1499.0</td>\n",
       "      <td>899.0</td>\n",
       "      <td>http://img5a.flixcart.com/image/shirt/x/z/8/rr...</td>\n",
       "      <td>Key Features of Mario Gotze Women's Printed Ca...</td>\n",
       "      <td>None</td>\n",
       "      <td>None</td>\n",
       "      <td>Mario Gotze</td>\n",
       "      <td>...</td>\n",
       "      <td>Classic Collar</td>\n",
       "      <td>None</td>\n",
       "      <td>None</td>\n",
       "      <td>None</td>\n",
       "      <td>None</td>\n",
       "      <td>None</td>\n",
       "      <td>None</td>\n",
       "      <td>Women</td>\n",
       "      <td>Shirts</td>\n",
       "      <td>b129a98c7c0e905ca82fd73db63d9bd0</td>\n",
       "    </tr>\n",
       "    <tr>\n",
       "      <th>19</th>\n",
       "      <td>http://www.flipkart.com/discountgod-men-s-chec...</td>\n",
       "      <td>Discountgod Men's Checkered Casual Shirt</td>\n",
       "      <td>SHTEBY72FGKPYBRU</td>\n",
       "      <td>750.0</td>\n",
       "      <td>590.0</td>\n",
       "      <td>http://img5a.flixcart.com/image/shirt/g/x/r/de...</td>\n",
       "      <td>Discountgod Men's Checkered Casual Shirt - Buy...</td>\n",
       "      <td>None</td>\n",
       "      <td>None</td>\n",
       "      <td>Slim</td>\n",
       "      <td>...</td>\n",
       "      <td>None</td>\n",
       "      <td>None</td>\n",
       "      <td>None</td>\n",
       "      <td>None</td>\n",
       "      <td>None</td>\n",
       "      <td>None</td>\n",
       "      <td>None</td>\n",
       "      <td>Men</td>\n",
       "      <td>Shirts</td>\n",
       "      <td>05324708277dbf2f3e8b55a660e91988</td>\n",
       "    </tr>\n",
       "    <tr>\n",
       "      <th>20</th>\n",
       "      <td>http://www.flipkart.com/silver-streak-men-s-pr...</td>\n",
       "      <td>Silver Streak Men's Printed Casual Denim Shirt</td>\n",
       "      <td>SHTEB5MNYHJJQGBJ</td>\n",
       "      <td>1299.0</td>\n",
       "      <td>599.0</td>\n",
       "      <td>http://img6a.flixcart.com/image/shirt/g/b/j/ss...</td>\n",
       "      <td>Silver Streak Men's Printed Casual Denim Shirt...</td>\n",
       "      <td>None</td>\n",
       "      <td>None</td>\n",
       "      <td>Slim</td>\n",
       "      <td>...</td>\n",
       "      <td>None</td>\n",
       "      <td>None</td>\n",
       "      <td>None</td>\n",
       "      <td>None</td>\n",
       "      <td>None</td>\n",
       "      <td>None</td>\n",
       "      <td>None</td>\n",
       "      <td>Men</td>\n",
       "      <td>Shirts</td>\n",
       "      <td>9b9dc9b2609d1ee4f5196221eca22eb7</td>\n",
       "    </tr>\n",
       "    <tr>\n",
       "      <th>30</th>\n",
       "      <td>http://www.flipkart.com/masaba-magic-fairy-gir...</td>\n",
       "      <td>Masaba for Magic fairy Girl's Layered Pink Dress</td>\n",
       "      <td>DREEJ3V5R9GQJNSY</td>\n",
       "      <td>1775.0</td>\n",
       "      <td>1598.0</td>\n",
       "      <td>http://img5a.flixcart.com/image/dress/g/r/f/mk...</td>\n",
       "      <td>Key Features of Masaba for Magic fairy Girl's ...</td>\n",
       "      <td>None</td>\n",
       "      <td>None</td>\n",
       "      <td>Masaba for Magic fairy</td>\n",
       "      <td>...</td>\n",
       "      <td>None</td>\n",
       "      <td>None</td>\n",
       "      <td>None</td>\n",
       "      <td>None</td>\n",
       "      <td>None</td>\n",
       "      <td>None</td>\n",
       "      <td>None</td>\n",
       "      <td>Kid</td>\n",
       "      <td>Dresses</td>\n",
       "      <td>5a2a5a43c64bad7c50a8262e9d9901a2</td>\n",
       "    </tr>\n",
       "    <tr>\n",
       "      <th>32</th>\n",
       "      <td>http://www.flipkart.com/wake-up-competition-fu...</td>\n",
       "      <td>Wake Up Competition Full Sleeve Striped Men's ...</td>\n",
       "      <td>SWSEJFF8Z9DSYYGF</td>\n",
       "      <td>1495.0</td>\n",
       "      <td>748.0</td>\n",
       "      <td>http://img6a.flixcart.com/image/sweatshirt/q/s...</td>\n",
       "      <td>Key Features of Wake Up Competition Full Sleev...</td>\n",
       "      <td>None</td>\n",
       "      <td>None</td>\n",
       "      <td>Wake Up Competition</td>\n",
       "      <td>...</td>\n",
       "      <td>None</td>\n",
       "      <td>None</td>\n",
       "      <td>None</td>\n",
       "      <td>None</td>\n",
       "      <td>None</td>\n",
       "      <td>None</td>\n",
       "      <td>None</td>\n",
       "      <td>Men</td>\n",
       "      <td>Sweatshirts</td>\n",
       "      <td>0e97b487f7bbe29daa0a95860e237998</td>\n",
       "    </tr>\n",
       "  </tbody>\n",
       "</table>\n",
       "<p>5 rows × 58 columns</p>\n",
       "</div>"
      ],
      "text/plain": [
       "                                          product_url  \\\n",
       "18  http://www.flipkart.com/mario-gotze-women-s-pr...   \n",
       "19  http://www.flipkart.com/discountgod-men-s-chec...   \n",
       "20  http://www.flipkart.com/silver-streak-men-s-pr...   \n",
       "30  http://www.flipkart.com/masaba-magic-fairy-gir...   \n",
       "32  http://www.flipkart.com/wake-up-competition-fu...   \n",
       "\n",
       "                                         product_name               pid  \\\n",
       "18    Mario Gotze Women's Printed Casual Orange Shirt  SHTEJRCHC5KESPYX   \n",
       "19           Discountgod Men's Checkered Casual Shirt  SHTEBY72FGKPYBRU   \n",
       "20     Silver Streak Men's Printed Casual Denim Shirt  SHTEB5MNYHJJQGBJ   \n",
       "30   Masaba for Magic fairy Girl's Layered Pink Dress  DREEJ3V5R9GQJNSY   \n",
       "32  Wake Up Competition Full Sleeve Striped Men's ...  SWSEJFF8Z9DSYYGF   \n",
       "\n",
       "    retail_price  discounted_price  \\\n",
       "18        1499.0             899.0   \n",
       "19         750.0             590.0   \n",
       "20        1299.0             599.0   \n",
       "30        1775.0            1598.0   \n",
       "32        1495.0             748.0   \n",
       "\n",
       "                                                image  \\\n",
       "18  http://img5a.flixcart.com/image/shirt/x/z/8/rr...   \n",
       "19  http://img5a.flixcart.com/image/shirt/g/x/r/de...   \n",
       "20  http://img6a.flixcart.com/image/shirt/g/b/j/ss...   \n",
       "30  http://img5a.flixcart.com/image/dress/g/r/f/mk...   \n",
       "32  http://img6a.flixcart.com/image/sweatshirt/q/s...   \n",
       "\n",
       "                                          description product_rating  \\\n",
       "18  Key Features of Mario Gotze Women's Printed Ca...           None   \n",
       "19  Discountgod Men's Checkered Casual Shirt - Buy...           None   \n",
       "20  Silver Streak Men's Printed Casual Denim Shirt...           None   \n",
       "30  Key Features of Masaba for Magic fairy Girl's ...           None   \n",
       "32  Key Features of Wake Up Competition Full Sleev...           None   \n",
       "\n",
       "   overall_rating                   brand                ...                 \\\n",
       "18           None             Mario Gotze                ...                  \n",
       "19           None                    Slim                ...                  \n",
       "20           None                    Slim                ...                  \n",
       "30           None  Masaba for Magic fairy                ...                  \n",
       "32           None     Wake Up Competition                ...                  \n",
       "\n",
       "      spec_placket spec_waistband spec_weave type spec_other bra details  \\\n",
       "18  Classic Collar           None            None                   None   \n",
       "19            None           None            None                   None   \n",
       "20            None           None            None                   None   \n",
       "30            None           None            None                   None   \n",
       "32            None           None            None                   None   \n",
       "\n",
       "   spec_age group spec_hem  spec_back gender   cloth_type  \\\n",
       "18           None     None       None  Women       Shirts   \n",
       "19           None     None       None    Men       Shirts   \n",
       "20           None     None       None    Men       Shirts   \n",
       "30           None     None       None    Kid      Dresses   \n",
       "32           None     None       None    Men  Sweatshirts   \n",
       "\n",
       "                            mfr_code  \n",
       "18  b129a98c7c0e905ca82fd73db63d9bd0  \n",
       "19  05324708277dbf2f3e8b55a660e91988  \n",
       "20  9b9dc9b2609d1ee4f5196221eca22eb7  \n",
       "30  5a2a5a43c64bad7c50a8262e9d9901a2  \n",
       "32  0e97b487f7bbe29daa0a95860e237998  \n",
       "\n",
       "[5 rows x 58 columns]"
      ]
     },
     "execution_count": 5,
     "metadata": {},
     "output_type": "execute_result"
    }
   ],
   "source": [
    "data_df.head()"
   ]
  },
  {
   "cell_type": "markdown",
   "metadata": {},
   "source": [
    "## Content-based recommendation generator"
   ]
  },
  {
   "cell_type": "code",
   "execution_count": 9,
   "metadata": {},
   "outputs": [],
   "source": [
    "import os\n",
    "import sys\n",
    "import pandas as pd\n",
    "import numpy as np\n",
    "import datetime\n",
    "import traceback\n",
    "from scipy import sparse\n",
    "from scipy.sparse import hstack\n",
    "from sklearn.feature_extraction.text import TfidfVectorizer\n",
    "from sklearn.metrics.pairwise import cosine_similarity\n",
    "\n",
    "\n",
    "class ContentRecommendation():\n",
    "    def __init__(self):\n",
    "        self.vectorizer = None\n",
    "        self.name_vectorizer = None\n",
    "        self.common_vectorizer = None\n",
    "\n",
    "    def initialize(self, product_count):\n",
    "        # Boost the vector value of certain attributes\n",
    "        self.boost = {\n",
    "            'category': 30\n",
    "        }\n",
    "\n",
    "        def handle_nans(data):\n",
    "            if data == 0 or data is np.nan:\n",
    "                return ''\n",
    "            else:\n",
    "                return data\n",
    "        tfidf_params = {\n",
    "            'decode_error': 'ignore',\n",
    "            'min_df': 2,\n",
    "            'stop_words': 'english',\n",
    "            'norm': None,\n",
    "            'analyzer': 'word',\n",
    "            'preprocessor': handle_nans,\n",
    "        }\n",
    "        # attribute name has a higher n-gram range\n",
    "        name_tfidf_params = {\n",
    "            'ngram_range': (1, 3),\n",
    "            'max_features': 5 * product_count\n",
    "        }\n",
    "        name_tfidf_params.update(tfidf_params)\n",
    "        common_tfidf_params = {\n",
    "            'ngram_range': (1, 2),\n",
    "            'max_features': min(2000, product_count)\n",
    "        }\n",
    "        common_tfidf_params.update(tfidf_params)\n",
    "        self.name_vectorizer = TfidfVectorizer(**name_tfidf_params)\n",
    "        self.common_vectorizer = TfidfVectorizer(**common_tfidf_params)\n",
    "\n",
    "    def get_columns_to_remove(self, columns):\n",
    "        remove_columns = [\n",
    "            '_id', 'avlble', '_count', '_rank', 'created_on',\n",
    "            'currency', 'description', 'image', 'last_', 'out_of_shelf', 'pgs',\n",
    "            'plists', '_date', 'url', 'place_order', 'views', 'trend',\n",
    "            'modified_on', 'updated', 'modified_on', 'product_code',\n",
    "            'hpicked_order', 'sub_account', 'variants', 'push', 'az_boughtrank', 'plist_rank',\n",
    "            'pid', 'product_url'\n",
    "        ]\n",
    "\n",
    "        def should_remove_column(column):\n",
    "            if any([remove_substring in column.lower() for remove_substring in remove_columns]):\n",
    "                return True\n",
    "            return False\n",
    "\n",
    "        return list(filter(should_remove_column, columns))\n",
    "\n",
    "    def process_column(self, col):\n",
    "        example_val_index = col.first_valid_index()\n",
    "        if not example_val_index:\n",
    "            return pd.Series(np.empty(col.shape[0]), index=col.index)\n",
    "        column_type = type(col[example_val_index])\n",
    "\n",
    "        def process_list(l):\n",
    "            if type(l) is list:\n",
    "                list_item = ' '.join(list(filter(lambda x: type(x) in [str] and len(x) > 0, l)))\n",
    "                if len(list_item.strip()) > 0:\n",
    "                    return list_item\n",
    "            return np.nan\n",
    "\n",
    "        def normalize_values(col):\n",
    "            col = col.astype(float)\n",
    "            min_value = col.min()\n",
    "            max_value = col.max()\n",
    "            normalized_values = ((col - min_value) / (max_value - min_value)).fillna(0)\n",
    "            if col.name in self.boost:\n",
    "                normalized_values = normalized_values * self.boost[col.name]\n",
    "            return normalized_values\n",
    "\n",
    "        numerics = [np.int16, np.int32, np.int64, np.float16, np.float32, np.float64, int, float]\n",
    "        if column_type in numerics:\n",
    "            processed_col = normalize_values(col)\n",
    "        elif column_type is list:\n",
    "            processed_col = col.apply(process_list)\n",
    "        elif column_type in [str]:\n",
    "            processed_col = col\n",
    "        else:\n",
    "            processed_col = pd.Series(np.empty(col.shape[0]), index=col.index)\n",
    "        return processed_col\n",
    "\n",
    "    def get_tf_idf_vector(self, col):\n",
    "        try:\n",
    "            col_values = list(col.fillna('').values.astype(str))\n",
    "            if col.name == 'name':\n",
    "                tfidf_col = self.name_vectorizer.fit_transform(col_values)\n",
    "            else:\n",
    "                tfidf_col = self.common_vectorizer.fit_transform(col_values)\n",
    "            if col.name in self.boost:\n",
    "                tfidf_col = tfidf_col * self.boost[col.name]\n",
    "            return tfidf_col\n",
    "        except Exception as e:\n",
    "            return None\n",
    "\n",
    "    def process_columns(self, df):\n",
    "        df.set_index('mfr_code', inplace=True)\n",
    "        # deal with duplicate keys\n",
    "        df = df[~df.index.duplicated(keep='first')]\n",
    "        df.drop(self.get_columns_to_remove(df.columns), axis=1, inplace=True)\n",
    "        print(df.columns)\n",
    "        pdf = df.apply(self.process_column, axis=0)\n",
    "        # drop columns that doesn't have a single value\n",
    "        if len(pdf.shape) > 1:\n",
    "            pdf.dropna(axis=1, how='all', inplace=True)\n",
    "        return pdf\n",
    "\n",
    "    def get_sparse_data(self, df):\n",
    "        sparse_features = [self.get_tf_idf_vector(df[column]) for column in df.select_dtypes(exclude='number').columns]\n",
    "        sparse_numeric_values = sparse.csr_matrix(np.nan_to_num(df[df.columns[df.dtypes != 'object']].values))\n",
    "        sparse_features.append(sparse_numeric_values)\n",
    "        sparse_features = [feature for feature in sparse_features if feature is not None]\n",
    "        sparse_data = hstack(tuple(sparse_features))\n",
    "        sparse_data.eliminate_zeros()\n",
    "        return sparse_data\n",
    "\n",
    "    def get_cosine_similarity(self, sparse_data_1, sparse_data_2):\n",
    "        result = cosine_similarity(sparse_data_1, Y=sparse_data_2, dense_output=False)\n",
    "        return result\n",
    "\n",
    "    def get_related_products(self, cs_result, row_index=0, col_index=0, mfr_index=None):\n",
    "        related_products = cs_result.tocoo(copy=False)\n",
    "        rdf = pd.DataFrame({\n",
    "            'index': related_products.row + row_index,\n",
    "            'col': related_products.col + col_index,\n",
    "            'data': related_products.data\n",
    "        })\n",
    "        return self.get_top_10_products(rdf)\n",
    "\n",
    "    def get_top_10_products(self, all_scores_df):\n",
    "        max_items = all_scores_df.groupby('index').count().col.max()\n",
    "        item_count = min(10, max_items - 1)\n",
    "        top_10_df = all_scores_df.sort_values('data', ascending=False).groupby('index').head(item_count)\n",
    "        return top_10_df\n",
    "\n",
    "    def generate_related_products(self, df):\n",
    "        if df.shape[0] > 0:\n",
    "            processed_df = self.process_columns(df)\n",
    "            if len(processed_df.shape) == 1:\n",
    "                print('ERROR No features found')\n",
    "                return None, None\n",
    "            sparse_df = self.get_sparse_data(processed_df)\n",
    "            # if there are more than products_count_limit, process in batches to avoid \n",
    "            # memory error in computing cosine similarity\n",
    "            products_count_limit = 2000\n",
    "            if sparse_df.shape[0] > products_count_limit:\n",
    "                split_limits = np.arange(0, sparse_df.shape[0], products_count_limit)\n",
    "                if split_limits[-1] != sparse_df.shape[0]:\n",
    "                    split_limits = np.append(split_limits, sparse_df.shape[0])\n",
    "                print(split_limits)\n",
    "                sparse_df = sparse_df.tocsr()\n",
    "                splits = [sparse_df[start:end, :] for start, end in zip(split_limits[:-1], split_limits[1:])]\n",
    "                row_index = 0\n",
    "                col_index = 0\n",
    "                df_result = pd.DataFrame()\n",
    "                for i, s1 in enumerate(splits[:]):\n",
    "                    col_index = 0\n",
    "                    for j, s2 in enumerate(splits[:]):\n",
    "                        cs = self.get_cosine_similarity(s1, s2)\n",
    "                        rp = self.get_related_products(cs, row_index, col_index, df.index)\n",
    "                        df_result = pd.concat([df_result, rp], ignore_index=True)\n",
    "                        col_index += splits[j].shape[0]\n",
    "                    row_index += splits[i].shape[0]\n",
    "                df_result_top_10 = self.get_top_10_products(df_result)\n",
    "                print('result_df' + str(df_result_top_10.shape))\n",
    "            else:\n",
    "                sparse_df.tocsr()\n",
    "                cs = self.get_cosine_similarity(sparse_df, sparse_df)\n",
    "                df_result = self.get_related_products(cs, 0, 0, df.index)\n",
    "            return df_result, df.index, sparse_df\n",
    "        return None, None\n",
    "\n",
    "    def populate_related_products(self, result, mfr_index):\n",
    "        results = {}\n",
    "        for i, group in result.groupby(['index']):\n",
    "            if (i % 1000) == 0 and i > 0:\n",
    "                print(str(i) + ' products updated')\n",
    "            max_vals = group.sort_values('data', ascending=False).head(10)\n",
    "            mfr_code = mfr_index[i]\n",
    "            if mfr_code is None:\n",
    "                continue\n",
    "            mfr_code = str(mfr_code)\n",
    "            max_vals['col'] = max_vals['col'].apply(lambda x: mfr_index[int(x)])\n",
    "            related_mfrs = {mfr: score for mfr, score in zip(list(max_vals['col'])[1:], list(max_vals['data'])[1:])}\n",
    "            if mfr_code in related_mfrs:\n",
    "                del related_mfrs[mfr_code]\n",
    "            related_mfrs = {pid: score for pid, score in related_mfrs.items()}\n",
    "            results[mfr_code] = related_mfrs\n",
    "        return results\n",
    "\n",
    "    def run(self, products_df):\n",
    "        self.initialize(products_df.shape[0])\n",
    "        results_df, df_index, sparse_df = self.generate_related_products(products_df)\n",
    "        if results_df is not None:\n",
    "            related_products = self.populate_related_products(results_df, df_index)\n",
    "            return related_products, sparse_df\n",
    "        return None"
   ]
  },
  {
   "cell_type": "code",
   "execution_count": 10,
   "metadata": {},
   "outputs": [],
   "source": [
    "_cr = ContentRecommendation()"
   ]
  },
  {
   "cell_type": "code",
   "execution_count": 11,
   "metadata": {},
   "outputs": [
    {
     "name": "stdout",
     "output_type": "stream",
     "text": [
      "Index(['product_name', 'retail_price', 'discounted_price', 'product_rating',\n",
      "       'overall_rating', 'brand', 'base_category', 'category_level_2',\n",
      "       'category_level_3', 'category_level_4', 'category_level_5',\n",
      "       'category_level_6', 'cat_length', 'spec_fabric', 'spec_pattern',\n",
      "       'spec_number of contents in sales package', 'spec_occasion',\n",
      "       'spec_type', 'spec_sleeve', 'spec_style code', 'spec_fit', 'spec_neck',\n",
      "       'spec_brand color', 'spec_color', 'spec_wire support', 'spec_straps',\n",
      "       'spec_cup type', 'spec_brand fit', 'spec_detachable straps',\n",
      "       'spec_length', 'spec_closure', 'spec_inner lining', 'spec_collar',\n",
      "       'spec_seam type', 'spec_other details', 'spec_series', 'spec_design',\n",
      "       'spec_pockets', 'spec_belt included', 'spec_hooded', 'spec_reversible',\n",
      "       'spec_style', 'spec_knit type', 'spec_placket', 'spec_waistband',\n",
      "       'spec_weave type', 'spec_other bra details', 'spec_age group',\n",
      "       'spec_hem', 'spec_back', 'gender', 'cloth_type'],\n",
      "      dtype='object')\n",
      "[   0 2000 2816]\n",
      "result_df(28160, 3)\n",
      "1000 products updated\n",
      "2000 products updated\n"
     ]
    }
   ],
   "source": [
    "%timeit\n",
    "related_products, sparse_df = _cr.run(data_df.copy())"
   ]
  },
  {
   "cell_type": "markdown",
   "metadata": {},
   "source": [
    "## TSNE plot of product vectors"
   ]
  },
  {
   "cell_type": "code",
   "execution_count": 12,
   "metadata": {},
   "outputs": [],
   "source": [
    "product_vectors = sparse_df.toarray()"
   ]
  },
  {
   "cell_type": "code",
   "execution_count": 13,
   "metadata": {},
   "outputs": [
    {
     "data": {
      "text/plain": [
       "(2816, 5303)"
      ]
     },
     "execution_count": 13,
     "metadata": {},
     "output_type": "execute_result"
    }
   ],
   "source": [
    "product_vectors.shape"
   ]
  },
  {
   "cell_type": "code",
   "execution_count": 20,
   "metadata": {},
   "outputs": [
    {
     "name": "stdout",
     "output_type": "stream",
     "text": [
      "[t-SNE] Computing 151 nearest neighbors...\n",
      "[t-SNE] Indexed 2816 samples in 0.380s...\n",
      "[t-SNE] Computed neighbors for 2816 samples in 61.017s...\n",
      "[t-SNE] Computed conditional probabilities for sample 1000 / 2816\n",
      "[t-SNE] Computed conditional probabilities for sample 2000 / 2816\n",
      "[t-SNE] Computed conditional probabilities for sample 2816 / 2816\n",
      "[t-SNE] Mean sigma: 9.240947\n",
      "[t-SNE] Computed conditional probabilities in 0.231s\n",
      "[t-SNE] Iteration 50: error = 71.1965561, gradient norm = 0.1044502 (50 iterations in 3.258s)\n",
      "[t-SNE] Iteration 100: error = 75.5645676, gradient norm = 0.0599229 (50 iterations in 3.085s)\n",
      "[t-SNE] Iteration 150: error = 75.7266922, gradient norm = 0.0500878 (50 iterations in 2.926s)\n",
      "[t-SNE] Iteration 200: error = 76.9073715, gradient norm = 0.0646522 (50 iterations in 3.655s)\n",
      "[t-SNE] Iteration 250: error = 77.8526154, gradient norm = 0.0736229 (50 iterations in 3.908s)\n",
      "[t-SNE] KL divergence after 250 iterations with early exaggeration: 77.852615\n",
      "[t-SNE] Iteration 300: error = 1.6780320, gradient norm = 0.0008599 (50 iterations in 5.472s)\n",
      "[t-SNE] Iteration 350: error = 1.3582112, gradient norm = 0.0004001 (50 iterations in 7.715s)\n",
      "[t-SNE] Iteration 400: error = 1.2346042, gradient norm = 0.0002620 (50 iterations in 9.113s)\n",
      "[t-SNE] Iteration 450: error = 1.1269232, gradient norm = 0.0002773 (50 iterations in 11.886s)\n",
      "[t-SNE] Iteration 500: error = 1.0824980, gradient norm = 0.0001243 (50 iterations in 12.243s)\n",
      "[t-SNE] Iteration 550: error = 1.0486588, gradient norm = 0.0000815 (50 iterations in 12.244s)\n",
      "[t-SNE] Iteration 600: error = 1.0116007, gradient norm = 0.0001303 (50 iterations in 11.497s)\n",
      "[t-SNE] Iteration 650: error = 0.9901809, gradient norm = 0.0000561 (50 iterations in 11.097s)\n",
      "[t-SNE] Iteration 700: error = 0.9677961, gradient norm = 0.0000498 (50 iterations in 10.088s)\n",
      "[t-SNE] Iteration 750: error = 0.9471855, gradient norm = 0.0000426 (50 iterations in 10.074s)\n",
      "[t-SNE] Iteration 800: error = 0.9286532, gradient norm = 0.0000459 (50 iterations in 8.686s)\n",
      "[t-SNE] Iteration 850: error = 0.9172058, gradient norm = 0.0000355 (50 iterations in 7.497s)\n",
      "[t-SNE] Iteration 900: error = 0.9002507, gradient norm = 0.0000299 (50 iterations in 6.596s)\n",
      "[t-SNE] Iteration 950: error = 0.8809335, gradient norm = 0.0000271 (50 iterations in 5.575s)\n",
      "[t-SNE] Iteration 1000: error = 0.8647128, gradient norm = 0.0000275 (50 iterations in 5.232s)\n",
      "[t-SNE] KL divergence after 1000 iterations: 0.864713\n"
     ]
    }
   ],
   "source": [
    "import matplotlib\n",
    "import matplotlib.pyplot as plt\n",
    "from sklearn.manifold import TSNE\n",
    "\n",
    "tsne = TSNE(n_components=3, verbose=10, init='pca', perplexity=50)\n",
    "tsne_results_3 = tsne.fit_transform(product_vectors)"
   ]
  },
  {
   "cell_type": "code",
   "execution_count": 32,
   "metadata": {},
   "outputs": [],
   "source": [
    "tsne_3d_results = pd.DataFrame(tsne_results_3, index=data_df.index)\n",
    "data_df['tsne_3d_0'] = tsne_3d_results[0]\n",
    "data_df['tsne_3d_1'] = tsne_3d_results[1]\n",
    "data_df['tsne_3d_2'] = tsne_3d_results[2]"
   ]
  },
  {
   "cell_type": "code",
   "execution_count": 34,
   "metadata": {},
   "outputs": [],
   "source": [
    "import plotly\n",
    "plotly.tools.set_credentials_file(username='gautham20', api_key='----')\n",
    "\n",
    "import plotly.plotly as py\n",
    "import plotly.graph_objs as go"
   ]
  },
  {
   "cell_type": "code",
   "execution_count": 35,
   "metadata": {},
   "outputs": [],
   "source": [
    "data_df['cloth_type_gender'] = data_df['cloth_type'] + '_' + data_df['gender']"
   ]
  },
  {
   "cell_type": "code",
   "execution_count": 36,
   "metadata": {},
   "outputs": [],
   "source": [
    "# remove outliers to get a focused plot\n",
    "def check_outlier(x):\n",
    "    return x.between(x.quantile(.1), x.quantile(.9))\n",
    "\n",
    "data_df['outlier'] = ~(check_outlier(data_df['tsne_3d_0']) &  check_outlier(data_df['tsne_3d_1']) & check_outlier(data_df['tsne_3d_2']))"
   ]
  },
  {
   "cell_type": "code",
   "execution_count": 37,
   "metadata": {},
   "outputs": [
    {
     "name": "stdout",
     "output_type": "stream",
     "text": [
      "['Blazers_Kid' 'Blazers_Men' 'Blazers_Women' 'Caps_Kid' 'Caps_Men'\n",
      " 'Dresses_Kid' 'Dresses_Women' 'Formal Shirts_Men' 'Jackets_Kid'\n",
      " 'Jackets_Men' 'Jackets_Women' 'Kurtis_Kid' 'Kurtis_Women'\n",
      " 'Leggings Jeggings_Kid' 'Leggings Jeggings_Women' 'Leggings_Women'\n",
      " 'Pants_Kid' 'Pants_Men' 'Pants_Women' 'Shirts Tops_Women' 'Shirts_Men'\n",
      " 'Shirts_Women' 'Sweaters_Kid' 'Sweaters_Men' 'Sweaters_Women'\n",
      " 'Sweatshirts_Men' 'Sweatshirts_Women' 'Ties_Men' 'Tops_Kid' 'Tops_Men'\n",
      " 'Tops_Women']\n"
     ]
    },
    {
     "data": {
      "text/html": [
       "<iframe id=\"igraph\" scrolling=\"no\" style=\"border:none;\" seamless=\"seamless\" src=\"https://plot.ly/~gautham20/15.embed\" height=\"525px\" width=\"100%\"></iframe>"
      ],
      "text/plain": [
       "<plotly.tools.PlotlyDisplay object>"
      ]
     },
     "execution_count": 37,
     "metadata": {},
     "output_type": "execute_result"
    }
   ],
   "source": [
    "traces = []\n",
    "import matplotlib.cm as cm\n",
    "import matplotlib.pyplot as plt\n",
    "\n",
    "products = data_df[~data_df['outlier']]\n",
    "key = 'cloth_type_gender'\n",
    "\n",
    "labels = np.unique(products[key].fillna('unknown'))\n",
    "print(labels)\n",
    "cmap = plt.get_cmap('cool')\n",
    "\n",
    "\n",
    "colors = cmap(np.linspace(0,1, len(labels)))\n",
    "\n",
    "for label, color in zip(labels, colors):\n",
    "    data = products[products[key] == label]\n",
    "    if data.shape[0] > 0:\n",
    "        trace = go.Scatter3d(\n",
    "            x = data['tsne_3d_0'],\n",
    "            y = data['tsne_3d_1'],\n",
    "            z = data['tsne_3d_2'],\n",
    "            mode='markers',\n",
    "            marker={'color': np.random.rand(), 'size': 4, 'opacity': 0.5},\n",
    "            name=label,\n",
    "            text=data['product_name'],\n",
    "            hoverinfo=\"text\",\n",
    "            hoverlabel={'namelength': 30}\n",
    "        )\n",
    "        traces.append(trace)\n",
    "layout_scene = {\n",
    "      'xaxis': {\n",
    "        'showspikes': False\n",
    "      },\n",
    "      'yaxis': {\n",
    "        'showspikes': False\n",
    "      },\n",
    "      'zaxis': {\n",
    "        'showspikes': False\n",
    "      }\n",
    "    }\n",
    "layout = go.Layout(\n",
    "    margin=dict(\n",
    "        l=0,\n",
    "        r=0,\n",
    "        b=0,\n",
    "        t=50\n",
    "    ),\n",
    "    scene=layout_scene,\n",
    "    showlegend=True\n",
    "    #legend=dict(orientation=\"h\", x=1, y=-1)\n",
    ")\n",
    "fig = go.Figure(data=traces, layout=layout)\n",
    "py.iplot(fig, filename='content_based_recommendation')"
   ]
  },
  {
   "cell_type": "markdown",
   "metadata": {},
   "source": [
    "## Display Recommendations"
   ]
  },
  {
   "cell_type": "code",
   "execution_count": 38,
   "metadata": {},
   "outputs": [],
   "source": [
    "image_map = {}"
   ]
  },
  {
   "cell_type": "code",
   "execution_count": 81,
   "metadata": {},
   "outputs": [],
   "source": [
    "from ipywidgets import HBox, Label, Image, HTML, Text, VBox, Layout\n",
    "from IPython.core.display import HTML \n",
    "import requests\n",
    "from collections import defaultdict\n",
    "\n",
    "box_layout = Layout(he130ight='350px',\n",
    "                    width='1000px')\n",
    "\n",
    "def add_product_details(pid, score=None):\n",
    "    product = data_df.loc[data_df['mfr_code'] == pid, :]\n",
    "    image = product['image']\n",
    "    product_dict = {\n",
    "        'pid': pid,\n",
    "        'image': image.iloc[0]\n",
    "    }\n",
    "    if score is not None:\n",
    "        product_dict.update({'score': score})\n",
    "    return product_dict\n",
    "\n",
    "def get_product_detail(product_id, field):\n",
    "    product_doc = product_details.loc[product_id]\n",
    "    if product_doc is not None:\n",
    "        return product_doc[field]\n",
    "    return None\n",
    "\n",
    "def get_image_content(url):\n",
    "        if url in image_map:\n",
    "            return image_map[url]\n",
    "        else:\n",
    "            try:\n",
    "                content = requests.get(url).content\n",
    "                image_map[url] = content\n",
    "                return content\n",
    "            except Exception as e:\n",
    "                print('exception' + str(e))\n",
    "                print(url)\n",
    "    \n",
    "def show_image(url):\n",
    "    image_content = get_image_content(url)\n",
    "    if not image_content:\n",
    "        return Image(value = get_image_content('http://sparco-dev.buzztech.com/content/images/thumbs/default-image_450.png'),\n",
    "            format='png',width=200, height=100)\n",
    "    return Image(value = image_content,\n",
    "    format='png',width=200, height=200)\n",
    "\n",
    "def display_products(products):\n",
    "    product_tiles = []\n",
    "    if 'score' in products[0]:\n",
    "        products = sorted(products, key=lambda x: x['score'], reverse=True)\n",
    "    for product in products:\n",
    "        product_tile = []\n",
    "        product_tile.append(show_image(product['image']))\n",
    "#         product_tile.append(Text(product['pid']))\n",
    "#         if 'score' in product:\n",
    "#             product_tile.append(Text(str(product['score'])))\n",
    "        product_tiles.append(VBox(product_tile))\n",
    "    count = len(product_tiles)\n",
    "    grid = []\n",
    "    for start in range(count)[::3]:\n",
    "        end = start+3\n",
    "        row = HBox(product_tiles[start:end], layout=box_layout)\n",
    "        grid.append(row)\n",
    "    return VBox(grid)"
   ]
  },
  {
   "cell_type": "code",
   "execution_count": 40,
   "metadata": {},
   "outputs": [],
   "source": [
    "results = list(related_products.items())"
   ]
  },
  {
   "cell_type": "code",
   "execution_count": 73,
   "metadata": {},
   "outputs": [],
   "source": [
    "import random\n",
    "base_product, recommendations = list(related_products.items())[random.choice(range(len(results)))]"
   ]
  },
  {
   "cell_type": "code",
   "execution_count": 74,
   "metadata": {},
   "outputs": [
    {
     "data": {
      "application/vnd.jupyter.widget-view+json": {
       "model_id": "7c1e7c5ce16c4009aa8d0fc869cf5cfc",
       "version_major": 2,
       "version_minor": 0
      },
      "text/plain": [
       "VBox(children=(HBox(children=(VBox(children=(Image(value=b'\\xff\\xd8\\xff\\xe0\\x00\\x10JFIF\\x00\\x01\\x01\\x00\\x00\\x0…"
      ]
     },
     "metadata": {},
     "output_type": "display_data"
    }
   ],
   "source": [
    "display_products([add_product_details(base_product)])"
   ]
  },
  {
   "cell_type": "code",
   "execution_count": 75,
   "metadata": {},
   "outputs": [
    {
     "data": {
      "application/vnd.jupyter.widget-view+json": {
       "model_id": "7608869438c142faaf73de5fadd993c9",
       "version_major": 2,
       "version_minor": 0
      },
      "text/plain": [
       "VBox(children=(HBox(children=(VBox(children=(Image(value=b'\\xff\\xd8\\xff\\xe0\\x00\\x10JFIF\\x00\\x01\\x01\\x00\\x00\\x0…"
      ]
     },
     "metadata": {},
     "output_type": "display_data"
    }
   ],
   "source": [
    "display_products([add_product_details(pid, score) for pid, score in recommendations.items()])"
   ]
  },
  {
   "cell_type": "markdown",
   "metadata": {},
   "source": [
    "## Personalized Recommendations"
   ]
  },
  {
   "cell_type": "code",
   "execution_count": 76,
   "metadata": {},
   "outputs": [],
   "source": [
    "user_positive_products = {\n",
    "    '95013105ef3dd970bf8a7eb2904bd32e': 0.8,\n",
    "    '92db7b3663df49f4225f1fdb38a264c4': 0.6,\n",
    "    '11db1eae84c36eacd2f61eb00f7eb910': 0.7\n",
    "}"
   ]
  },
  {
   "cell_type": "code",
   "execution_count": 77,
   "metadata": {},
   "outputs": [],
   "source": [
    "def get_user_recommendations(user_actions, n=10):\n",
    "    user_product_map = {}\n",
    "    for product_id, user_score in user_actions.items():\n",
    "        for related_id, related_score in related_products[product_id].items():\n",
    "            user_product_map[related_id] = user_product_map.get(related_id, 0) + (related_score * user_score)\n",
    "    for product_id in user_actions:\n",
    "        if product_id in user_product_map:\n",
    "            del user_product_map[product_id]\n",
    "    user_recommendations = sorted(user_product_map.items(), key=lambda x: x[1], reverse=True)\n",
    "    return user_recommendations[:min(n, len(user_recommendations))]"
   ]
  },
  {
   "cell_type": "code",
   "execution_count": 78,
   "metadata": {},
   "outputs": [],
   "source": [
    "user_recommendations = get_user_recommendations(user_positive_products)"
   ]
  },
  {
   "cell_type": "code",
   "execution_count": 82,
   "metadata": {},
   "outputs": [
    {
     "data": {
      "application/vnd.jupyter.widget-view+json": {
       "model_id": "2aeb628eee6c4bf08dab0bf5ccabbb58",
       "version_major": 2,
       "version_minor": 0
      },
      "text/plain": [
       "VBox(children=(HBox(children=(VBox(children=(Image(value=b'\\xff\\xd8\\xff\\xe0\\x00\\x10JFIF\\x00\\x01\\x01\\x00\\x00\\x0…"
      ]
     },
     "metadata": {},
     "output_type": "display_data"
    }
   ],
   "source": [
    "display_products([add_product_details(pid) for pid in user_positive_products.keys()])"
   ]
  },
  {
   "cell_type": "code",
   "execution_count": 83,
   "metadata": {
    "scrolled": false
   },
   "outputs": [
    {
     "data": {
      "application/vnd.jupyter.widget-view+json": {
       "model_id": "9f5ef8883d524a539141aa5414873816",
       "version_major": 2,
       "version_minor": 0
      },
      "text/plain": [
       "VBox(children=(HBox(children=(VBox(children=(Image(value=b'\\xff\\xd8\\xff\\xe0\\x00\\x10JFIF\\x00\\x01\\x01\\x00\\x00\\x0…"
      ]
     },
     "metadata": {},
     "output_type": "display_data"
    }
   ],
   "source": [
    "display_products([add_product_details(pid, score) for pid, score in user_recommendations])"
   ]
  },
  {
   "cell_type": "code",
   "execution_count": null,
   "metadata": {},
   "outputs": [],
   "source": []
  }
 ],
 "metadata": {
  "kernelspec": {
   "display_name": "Python 3",
   "language": "python",
   "name": "python3"
  },
  "language_info": {
   "codemirror_mode": {
    "name": "ipython",
    "version": 3
   },
   "file_extension": ".py",
   "mimetype": "text/x-python",
   "name": "python",
   "nbconvert_exporter": "python",
   "pygments_lexer": "ipython3",
   "version": "3.7.0"
  }
 },
 "nbformat": 4,
 "nbformat_minor": 2
}
